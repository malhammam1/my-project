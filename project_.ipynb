{
  "nbformat": 4,
  "nbformat_minor": 0,
  "metadata": {
    "colab": {
      "provenance": [],
      "authorship_tag": "ABX9TyNmNdoZtQnz48AFJBESjhFW",
      "include_colab_link": true
    },
    "kernelspec": {
      "name": "python3",
      "display_name": "Python 3"
    },
    "language_info": {
      "name": "python"
    }
  },
  "cells": [
    {
      "cell_type": "markdown",
      "metadata": {
        "id": "view-in-github",
        "colab_type": "text"
      },
      "source": [
        "<a href=\"https://colab.research.google.com/github/malhammam1/my-project/blob/main/project_.ipynb\" target=\"_parent\"><img src=\"https://colab.research.google.com/assets/colab-badge.svg\" alt=\"Open In Colab\"/></a>"
      ]
    },
    {
      "cell_type": "markdown",
      "source": [],
      "metadata": {
        "id": "Ku6G4sP6OnJv"
      }
    },
    {
      "cell_type": "markdown",
      "source": [],
      "metadata": {
        "id": "gytIN85rOofh"
      }
    },
    {
      "cell_type": "code",
      "execution_count": null,
      "metadata": {
        "id": "oGHKWyb5IfxK"
      },
      "outputs": [],
      "source": []
    },
    {
      "cell_type": "markdown",
      "source": [
        "#Project Proposal\n",
        "##Plan for the project\n",
        "I plan to do the project alone and finish it within a week.\n",
        "\n",
        "##Dataset\n",
        "**Dataset Choice**: [Link Text](https://github.com/malhammam1/Maha_csci_1070/blob/master/archive%20(1).zip)\n",
        "\n",
        "## Hypotheses\n",
        "**Null Hypothesis**: There is no relationship between having a family history of mental health issues and seeking treatment for mental health by employees.\n",
        "\n",
        "**Alternative Hypothesis**: Employees with a family history of mental health issues are more likely to seek treatment for their own mental health conditions.\n",
        "\n",
        "## Prediction Goal\n",
        "The goal is to predict whether an employee will seek treatment based on their family history of mental health issues. This simple predictive analysis will help in understanding the impact of family history on mental health treatment decisions among employees.\n",
        "\n",
        "## Models to Apply\n",
        "I will apply logistic regression, which is well suited for binary classification tasks such as predicting whether an employee will seek treatment for mental health issues. Logistic regression will allow me to understand the impact of having a family history of mental health issues on the likelihood of seeking treatment.\n",
        "\n",
        "\n",
        "\n",
        "\n"
      ],
      "metadata": {
        "id": "hrmKUDvcIsLN"
      }
    },
    {
      "cell_type": "markdown",
      "source": [],
      "metadata": {
        "id": "Kgm00SqNOyQX"
      }
    },
    {
      "cell_type": "markdown",
      "source": [],
      "metadata": {
        "id": "mFAQ-vjbIgxx"
      }
    }
  ]
}